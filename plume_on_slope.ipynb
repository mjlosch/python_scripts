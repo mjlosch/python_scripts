{
 "cells": [
  {
   "cell_type": "markdown",
   "id": "growing-copyright",
   "metadata": {},
   "source": [
    "# animation\n",
    "after running the verification experiment tutorial_plume_on_slope in \"myrun\" with \n",
    " useSingleCPUio = .TRUE.,\n",
    " dumpInitAndLast = .FALSE.,\n",
    " monitorFreq = 7200.,\n",
    " dumpFreq = 7200.,\n",
    "and for 2 days (8640 timesteps), run this notebook to plot temperature \"theta\""
   ]
  },
  {
   "cell_type": "code",
   "execution_count": 1,
   "id": "worldwide-merit",
   "metadata": {},
   "outputs": [],
   "source": [
    "%matplotlib widget\n",
    "\n",
    "\n",
    "import numpy as np\n",
    "import matplotlib.pyplot as plt\n",
    "from matplotlib.animation import FuncAnimation\n",
    "import os\n",
    "from xmitgcm import open_mdsdataset\n",
    "# helper function\n",
    "def sq(a):\n",
    "    a = np.squeeze(a)\n",
    "    return np.ma.masked_array(a==0.,a)\n",
    "\n",
    "bdir = '/Users/mlosch/Documents/teaching/GLOMAR/AdvancedOceanModelling/MITgcm/verification'\n",
    "experiment0 = 'tutorial_plume_on_slope/myrun'\n",
    "experiment1 = 'tutorial_plume_on_slope/myrunf'"
   ]
  },
  {
   "cell_type": "code",
   "execution_count": 5,
   "id": "veterinary-bridal",
   "metadata": {},
   "outputs": [],
   "source": [
    "import warnings\n",
    "warnings.filterwarnings('ignore')\n",
    "\n",
    "with warnings.catch_warnings():\n",
    "    # this will suppress all warnings in this block\n",
    "    warnings.simplefilter(\"ignore\")\n",
    "    ds0 = open_mdsdataset(os.path.join(bdir,experiment0),delta_t=20.,ref_date=\"2001-1-1 0:0:0\",\n",
    "                          prefix='T',geometry='cartesian')\n",
    "    ds1 = open_mdsdataset(os.path.join(bdir,experiment1),delta_t=20.,ref_date=\"2001-1-1 0:0:0\",\n",
    "                          prefix='T',geometry='cartesian')\n"
   ]
  },
  {
   "cell_type": "code",
   "execution_count": 6,
   "id": "pacific-conducting",
   "metadata": {},
   "outputs": [
    {
     "data": {
      "application/vnd.jupyter.widget-view+json": {
       "model_id": "b6eca3a4cff040c2b564c8a34469d948",
       "version_major": 2,
       "version_minor": 0
      },
      "text/plain": [
       "Canvas(toolbar=Toolbar(toolitems=[('Home', 'Reset original view', 'home', 'home'), ('Back', 'Back to previous …"
      ]
     },
     "metadata": {},
     "output_type": "display_data"
    }
   ],
   "source": [
    "mytime = -1\n",
    "mycmap = plt.cm.viridis\n",
    "\n",
    "plt.close('all')\n",
    "fig1,ax1 = plt.subplots(2,1,sharex=True,sharey=True) #,figsize=(8,3.5))\n",
    "# replace zeros by NaN\n",
    "theta0=ds0.T.where(ds0.T!=0)\n",
    "theta1=ds1.T.where(ds1.T!=0)\n",
    "k = 0\n",
    "ph0 = theta0.isel(time=k).plot(ax=ax1[0],cmap=mycmap,vmin=-0.08,vmax=0.02)\n",
    "ph1 = theta1.isel(time=k).plot(ax=ax1[1],cmap=mycmap,vmin=-0.08,vmax=0.02)\n",
    "ax1[1].title.set_text(' ')\n",
    "ax1[0].title.set_text('iter = %i, time = %s'%(theta0.iter[k],np.datetime_as_string(theta0.time[k], unit='s')))\n",
    "#\n",
    "def animate(k):\n",
    "    ph0.set_array(theta0.isel(time=k).data.ravel())\n",
    "    ph1.set_array(theta1.isel(time=k).data.ravel())\n",
    "    ax1[0].title.set_text('iter = %i, time = %s'%(theta0.iter[k],np.datetime_as_string(theta0.time[k], unit='s')))"
   ]
  },
  {
   "cell_type": "code",
   "execution_count": 7,
   "id": "typical-mystery",
   "metadata": {},
   "outputs": [],
   "source": [
    "anim = FuncAnimation(\n",
    "    fig1, animate, interval=100, frames=len(theta1.time)-1)\n",
    " \n",
    "fig1.show()"
   ]
  }
 ],
 "metadata": {
  "kernelspec": {
   "display_name": "Python 3",
   "language": "python",
   "name": "python3"
  },
  "language_info": {
   "codemirror_mode": {
    "name": "ipython",
    "version": 3
   },
   "file_extension": ".py",
   "mimetype": "text/x-python",
   "name": "python",
   "nbconvert_exporter": "python",
   "pygments_lexer": "ipython3",
   "version": "3.9.1"
  }
 },
 "nbformat": 4,
 "nbformat_minor": 5
}
