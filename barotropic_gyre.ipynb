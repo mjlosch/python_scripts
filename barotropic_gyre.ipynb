{
 "cells": [
  {
   "cell_type": "markdown",
   "id": "collective-findings",
   "metadata": {},
   "source": [
    "# Simple plots\n",
    "after running the verification experiment tutorial_barotropic_gyre in \"myrun\" with \n",
    " useSingleCPUio = .TRUE.,\n",
    " dumpInitAndLast = .FALSE.,\n",
    " monitorFreq = 86400.,\n",
    " dumpFreq = 864000.,\n",
    "and for 100 days (7200 timesteps), run this notebook to plot sea surface height \"eta\""
   ]
  },
  {
   "cell_type": "code",
   "execution_count": 1,
   "id": "right-rugby",
   "metadata": {},
   "outputs": [],
   "source": [
    "%matplotlib widget\n",
    "\n",
    "import numpy as np\n",
    "import matplotlib.pyplot as plt\n",
    "import os\n",
    "# helper function\n",
    "def sq(a):\n",
    "    a = np.squeeze(a)\n",
    "    return np.ma.masked_array(a==0.,a)\n",
    "\n",
    "bdir = '/Users/mlosch/Documents/teaching/GLOMAR/AdvancedOceanModelling/MITgcm/verification'\n",
    "experiment = 'tutorial_barotropic_gyre/myrun'"
   ]
  },
  {
   "cell_type": "markdown",
   "id": "stock-screening",
   "metadata": {},
   "source": [
    "either read with MITgcmutils and plot with matplotlib functions ..."
   ]
  },
  {
   "cell_type": "code",
   "execution_count": 2,
   "id": "blind-nutrition",
   "metadata": {},
   "outputs": [
    {
     "data": {
      "application/vnd.jupyter.widget-view+json": {
       "model_id": "74190cbbb7e24b99ab0bce550125ea02",
       "version_major": 2,
       "version_minor": 0
      },
      "text/plain": [
       "Canvas(toolbar=Toolbar(toolitems=[('Home', 'Reset original view', 'home', 'home'), ('Back', 'Back to previous …"
      ]
     },
     "metadata": {},
     "output_type": "display_data"
    },
    {
     "name": "stderr",
     "output_type": "stream",
     "text": [
      "<ipython-input-2-bd0be7c931d3>:15: MatplotlibDeprecationWarning: shading='flat' when X and Y have the same dimensions as C is deprecated since 3.3.  Either specify the corners of the quadrilaterals with X and Y, or pass shading='auto', 'nearest' or 'gouraud', or set rcParams['pcolor.shading'].  This will become an error two minor releases later.\n",
      "  csf = ax1[0].pcolormesh(xg,yg,eta[mytime,:,:],cmap=mycmap,vmin=-0.05,vmax=0.05)\n"
     ]
    },
    {
     "data": {
      "text/plain": [
       "<matplotlib.colorbar.Colorbar at 0x10f1e0730>"
      ]
     },
     "execution_count": 2,
     "metadata": {},
     "output_type": "execute_result"
    }
   ],
   "source": [
    "from MITgcmutils import rdmds\n",
    "\n",
    "xg = rdmds(os.path.join(bdir,experiment,'XG'))\n",
    "yg = rdmds(os.path.join(bdir,experiment,'YG'))\n",
    "xc = rdmds(os.path.join(bdir,experiment,'XC'))\n",
    "yc = rdmds(os.path.join(bdir,experiment,'YC'))\n",
    "\n",
    "eta = rdmds(os.path.join(bdir,experiment,'Eta'),np.NaN)\n",
    "\n",
    "mytime = -1\n",
    "mycmap = plt.cm.viridis\n",
    "\n",
    "plt.close('all')\n",
    "fig1,ax1 = plt.subplots(1,2,sharex=True,sharey=True,figsize=(8,3.5))\n",
    "csf = ax1[0].pcolormesh(xg,yg,eta[mytime,:,:],cmap=mycmap,vmin=-0.05,vmax=0.05)\n",
    "plt.colorbar(csf,ax=ax1[0])"
   ]
  },
  {
   "cell_type": "markdown",
   "id": "waiting-barrel",
   "metadata": {},
   "source": [
    "... or read with xmitgcm and plot using xarray methods"
   ]
  },
  {
   "cell_type": "code",
   "execution_count": 3,
   "id": "latest-native",
   "metadata": {},
   "outputs": [
    {
     "name": "stderr",
     "output_type": "stream",
     "text": [
      "/Users/mlosch/miniconda3/envs/mitgcm/lib/python3.9/site-packages/xmitgcm/mds_store.py:857: UserWarning: Couldn't find available_diagnostics.log in /Users/mlosch/Documents/teaching/GLOMAR/AdvancedOceanModelling/MITgcm/verification/tutorial_barotropic_gyre/myrun or /Users/mlosch/Documents/teaching/GLOMAR/AdvancedOceanModelling/MITgcm/verification/tutorial_barotropic_gyre/myrun. Using default version.\n",
      "  warnings.warn(\"Couldn't find available_diagnostics.log \"\n"
     ]
    },
    {
     "data": {
      "text/plain": [
       "<matplotlib.collections.QuadMesh at 0x111c4e280>"
      ]
     },
     "execution_count": 3,
     "metadata": {},
     "output_type": "execute_result"
    }
   ],
   "source": [
    "from xmitgcm import open_mdsdataset\n",
    "\n",
    "ds = open_mdsdataset(os.path.join(bdir,experiment),geometry='cartesian')\n",
    "\n",
    "ds.Eta.isel(time=mytime).plot(ax=ax1[1],cmap=mycmap,vmin=-0.05,vmax=0.05)"
   ]
  },
  {
   "cell_type": "code",
   "execution_count": 4,
   "id": "failing-citizen",
   "metadata": {},
   "outputs": [],
   "source": [
    "plt.tight_layout()"
   ]
  },
  {
   "cell_type": "markdown",
   "id": "defined-jones",
   "metadata": {},
   "source": [
    "# if you prefer contour plots:"
   ]
  },
  {
   "cell_type": "code",
   "execution_count": 5,
   "id": "acceptable-anchor",
   "metadata": {},
   "outputs": [
    {
     "data": {
      "application/vnd.jupyter.widget-view+json": {
       "model_id": "d5bd709daa364e13950c40a9a182ec15",
       "version_major": 2,
       "version_minor": 0
      },
      "text/plain": [
       "Canvas(toolbar=Toolbar(toolitems=[('Home', 'Reset original view', 'home', 'home'), ('Back', 'Back to previous …"
      ]
     },
     "metadata": {},
     "output_type": "display_data"
    },
    {
     "data": {
      "text/plain": [
       "<matplotlib.contour.QuadContourSet at 0x111c108e0>"
      ]
     },
     "execution_count": 5,
     "metadata": {},
     "output_type": "execute_result"
    }
   ],
   "source": [
    "fig2,ax2=plt.subplots(1,1)\n",
    "ds.Eta.isel(time=mytime).plot.contourf(ax=ax2,cmap=plt.cm.viridis,levels=np.linspace(-0.06,0.06,21))"
   ]
  },
  {
   "cell_type": "code",
   "execution_count": 6,
   "id": "fourth-blogger",
   "metadata": {},
   "outputs": [],
   "source": [
    "plt.tight_layout()"
   ]
  }
 ],
 "metadata": {
  "kernelspec": {
   "display_name": "Python 3",
   "language": "python",
   "name": "python3"
  },
  "language_info": {
   "codemirror_mode": {
    "name": "ipython",
    "version": 3
   },
   "file_extension": ".py",
   "mimetype": "text/x-python",
   "name": "python",
   "nbconvert_exporter": "python",
   "pygments_lexer": "ipython3",
   "version": "3.9.1"
  }
 },
 "nbformat": 4,
 "nbformat_minor": 5
}
