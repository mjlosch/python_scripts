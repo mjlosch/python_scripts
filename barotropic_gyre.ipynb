{
 "cells": [
  {
   "cell_type": "markdown",
   "id": "still-lease",
   "metadata": {},
   "source": [
    "# Simple plots\n",
    "after running the verification experiment tutorial_barotropic_gyre in \"myrun\" with useSingleCPUio = .TRUE., and for 100 days, run this notebook to plot sea surface height \"eta\""
   ]
  },
  {
   "cell_type": "code",
   "execution_count": 1,
   "id": "monthly-trash",
   "metadata": {},
   "outputs": [],
   "source": [
    "%matplotlib widget\n",
    "\n",
    "import numpy as np\n",
    "import matplotlib.pyplot as plt\n",
    "import os\n",
    "# helper function\n",
    "def sq(a):\n",
    "    a = np.squeeze(a)\n",
    "    return np.ma.masked_array(a==0.,a)\n",
    "\n",
    "bdir = '/Users/mlosch/Documents/teaching/GLOMAR/AdvancedOceanModelling/MITgcm/verification'\n",
    "experiment = 'tutorial_barotropic_gyre/myrun'"
   ]
  },
  {
   "cell_type": "markdown",
   "id": "black-organization",
   "metadata": {},
   "source": [
    "either read with MITgcmutils and plot with matplotlib functions ..."
   ]
  },
  {
   "cell_type": "code",
   "execution_count": 7,
   "id": "raising-raise",
   "metadata": {},
   "outputs": [
    {
     "data": {
      "application/vnd.jupyter.widget-view+json": {
       "model_id": "6e61753418aa4e66ade21baa3c309129",
       "version_major": 2,
       "version_minor": 0
      },
      "text/plain": [
       "Canvas(toolbar=Toolbar(toolitems=[('Home', 'Reset original view', 'home', 'home'), ('Back', 'Back to previous …"
      ]
     },
     "metadata": {},
     "output_type": "display_data"
    },
    {
     "name": "stderr",
     "output_type": "stream",
     "text": [
      "<ipython-input-7-bd0be7c931d3>:15: MatplotlibDeprecationWarning: shading='flat' when X and Y have the same dimensions as C is deprecated since 3.3.  Either specify the corners of the quadrilaterals with X and Y, or pass shading='auto', 'nearest' or 'gouraud', or set rcParams['pcolor.shading'].  This will become an error two minor releases later.\n",
      "  csf = ax1[0].pcolormesh(xg,yg,eta[mytime,:,:],cmap=mycmap,vmin=-0.05,vmax=0.05)\n"
     ]
    },
    {
     "data": {
      "text/plain": [
       "<matplotlib.colorbar.Colorbar at 0x11ab49a90>"
      ]
     },
     "execution_count": 7,
     "metadata": {},
     "output_type": "execute_result"
    }
   ],
   "source": [
    "from MITgcmutils import rdmds\n",
    "\n",
    "xg = rdmds(os.path.join(bdir,experiment,'XG'))\n",
    "yg = rdmds(os.path.join(bdir,experiment,'YG'))\n",
    "xc = rdmds(os.path.join(bdir,experiment,'XC'))\n",
    "yc = rdmds(os.path.join(bdir,experiment,'YC'))\n",
    "\n",
    "eta = rdmds(os.path.join(bdir,experiment,'Eta'),np.NaN)\n",
    "\n",
    "mytime = -1\n",
    "mycmap = plt.cm.viridis\n",
    "\n",
    "plt.close('all')\n",
    "fig1,ax1 = plt.subplots(1,2,sharex=True,sharey=True,figsize=(8,3.5))\n",
    "csf = ax1[0].pcolormesh(xg,yg,eta[mytime,:,:],cmap=mycmap,vmin=-0.05,vmax=0.05)\n",
    "plt.colorbar(csf,ax=ax1[0])"
   ]
  },
  {
   "cell_type": "markdown",
   "id": "amateur-iceland",
   "metadata": {},
   "source": [
    "... or read with xmitgcm and plot using xarray methods"
   ]
  },
  {
   "cell_type": "code",
   "execution_count": 8,
   "id": "organic-yugoslavia",
   "metadata": {},
   "outputs": [
    {
     "name": "stderr",
     "output_type": "stream",
     "text": [
      "/Users/mlosch/miniconda3/envs/mitgcm/lib/python3.9/site-packages/xmitgcm/mds_store.py:857: UserWarning: Couldn't find available_diagnostics.log in /Users/mlosch/Documents/teaching/GLOMAR/AdvancedOceanModelling/MITgcm/verification/tutorial_barotropic_gyre/myrun or /Users/mlosch/Documents/teaching/GLOMAR/AdvancedOceanModelling/MITgcm/verification/tutorial_barotropic_gyre/myrun. Using default version.\n",
      "  warnings.warn(\"Couldn't find available_diagnostics.log \"\n"
     ]
    },
    {
     "data": {
      "text/plain": [
       "<matplotlib.collections.QuadMesh at 0x11aa82c70>"
      ]
     },
     "execution_count": 8,
     "metadata": {},
     "output_type": "execute_result"
    }
   ],
   "source": [
    "from xmitgcm import open_mdsdataset\n",
    "\n",
    "ds = open_mdsdataset(os.path.join(bdir,experiment),geometry='cartesian')\n",
    "\n",
    "ds.Eta.isel(time=mytime).plot(ax=ax1[1],cmap=mycmap,vmin=-0.05,vmax=0.05)"
   ]
  },
  {
   "cell_type": "code",
   "execution_count": 9,
   "id": "metropolitan-cycle",
   "metadata": {},
   "outputs": [],
   "source": [
    "plt.tight_layout()\n",
    "#for b in ax1:\n",
    "#    b.axis('image')"
   ]
  },
  {
   "cell_type": "markdown",
   "id": "cultural-myanmar",
   "metadata": {},
   "source": [
    "# if you prefer contour plots:"
   ]
  },
  {
   "cell_type": "code",
   "execution_count": 5,
   "id": "surgical-thing",
   "metadata": {},
   "outputs": [
    {
     "data": {
      "application/vnd.jupyter.widget-view+json": {
       "model_id": "3d103e4596fe4f408ddaa08dd9a3fda9",
       "version_major": 2,
       "version_minor": 0
      },
      "text/plain": [
       "Canvas(toolbar=Toolbar(toolitems=[('Home', 'Reset original view', 'home', 'home'), ('Back', 'Back to previous …"
      ]
     },
     "metadata": {},
     "output_type": "display_data"
    },
    {
     "data": {
      "text/plain": [
       "<matplotlib.contour.QuadContourSet at 0x11ab33670>"
      ]
     },
     "execution_count": 5,
     "metadata": {},
     "output_type": "execute_result"
    }
   ],
   "source": [
    "fig2,ax2=plt.subplots(1,1)\n",
    "ds.Eta.isel(time=mytime).plot.contourf(ax=ax2,cmap=plt.cm.viridis,levels=np.linspace(-0.06,0.06,21))"
   ]
  },
  {
   "cell_type": "code",
   "execution_count": null,
   "id": "western-terrorism",
   "metadata": {},
   "outputs": [],
   "source": []
  }
 ],
 "metadata": {
  "kernelspec": {
   "display_name": "Python 3",
   "language": "python",
   "name": "python3"
  },
  "language_info": {
   "codemirror_mode": {
    "name": "ipython",
    "version": 3
   },
   "file_extension": ".py",
   "mimetype": "text/x-python",
   "name": "python",
   "nbconvert_exporter": "python",
   "pygments_lexer": "ipython3",
   "version": "3.9.1"
  }
 },
 "nbformat": 4,
 "nbformat_minor": 5
}
